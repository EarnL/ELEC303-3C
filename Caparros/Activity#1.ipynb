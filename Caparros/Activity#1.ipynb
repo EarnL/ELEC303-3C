{
 "cells": [
  {
   "cell_type": "markdown",
   "id": "f517f35e-3b77-4e58-9edd-e8ecc0d049fa",
   "metadata": {},
   "source": [
    "<h1>ACTIVITY NO.#1 - PALMER PENGUINS DATA ANALYTICS PROJECT</h1>\n",
    "<hr>"
   ]
  },
  {
   "cell_type": "markdown",
   "id": "553d1c92-97eb-498b-8163-862f65a20220",
   "metadata": {},
   "source": [
    "<h2>Analyst: Arnel N. Caparros</h2>"
   ]
  },
  {
   "cell_type": "code",
   "execution_count": 3,
   "id": "eba86047-841c-4aa9-94b1-c90f594368d2",
   "metadata": {},
   "outputs": [],
   "source": [
    "import numpy as np\n",
    "import pandas as pd\n",
    "import warnings\n",
    "warnings.filterwarnings('ignore')"
   ]
  },
  {
   "cell_type": "code",
   "execution_count": 4,
   "id": "0e1f4d06-27e1-4edd-9dc0-2f3ab389ec76",
   "metadata": {},
   "outputs": [],
   "source": [
    "penguins = pd.read_csv('datasets\\\\penguins.csv')"
   ]
  },
  {
   "cell_type": "code",
   "execution_count": 5,
   "id": "272ae9f8-94a6-4639-b8c8-55f5a9fed976",
   "metadata": {},
   "outputs": [
    {
     "data": {
      "text/html": [
       "<div>\n",
       "<style scoped>\n",
       "    .dataframe tbody tr th:only-of-type {\n",
       "        vertical-align: middle;\n",
       "    }\n",
       "\n",
       "    .dataframe tbody tr th {\n",
       "        vertical-align: top;\n",
       "    }\n",
       "\n",
       "    .dataframe thead th {\n",
       "        text-align: right;\n",
       "    }\n",
       "</style>\n",
       "<table border=\"1\" class=\"dataframe\">\n",
       "  <thead>\n",
       "    <tr style=\"text-align: right;\">\n",
       "      <th></th>\n",
       "      <th>species</th>\n",
       "      <th>island</th>\n",
       "      <th>bill_length_mm</th>\n",
       "      <th>bill_depth_mm</th>\n",
       "      <th>flipper_length_mm</th>\n",
       "      <th>body_mass_g</th>\n",
       "      <th>sex</th>\n",
       "      <th>year</th>\n",
       "    </tr>\n",
       "  </thead>\n",
       "  <tbody>\n",
       "    <tr>\n",
       "      <th>0</th>\n",
       "      <td>Adelie</td>\n",
       "      <td>Torgersen</td>\n",
       "      <td>39.1</td>\n",
       "      <td>18.7</td>\n",
       "      <td>181.0</td>\n",
       "      <td>3750.0</td>\n",
       "      <td>male</td>\n",
       "      <td>2007</td>\n",
       "    </tr>\n",
       "    <tr>\n",
       "      <th>1</th>\n",
       "      <td>Adelie</td>\n",
       "      <td>Torgersen</td>\n",
       "      <td>39.5</td>\n",
       "      <td>17.4</td>\n",
       "      <td>186.0</td>\n",
       "      <td>3800.0</td>\n",
       "      <td>female</td>\n",
       "      <td>2007</td>\n",
       "    </tr>\n",
       "    <tr>\n",
       "      <th>2</th>\n",
       "      <td>Adelie</td>\n",
       "      <td>Torgersen</td>\n",
       "      <td>40.3</td>\n",
       "      <td>18.0</td>\n",
       "      <td>195.0</td>\n",
       "      <td>3250.0</td>\n",
       "      <td>female</td>\n",
       "      <td>2007</td>\n",
       "    </tr>\n",
       "    <tr>\n",
       "      <th>3</th>\n",
       "      <td>Adelie</td>\n",
       "      <td>Torgersen</td>\n",
       "      <td>NaN</td>\n",
       "      <td>NaN</td>\n",
       "      <td>NaN</td>\n",
       "      <td>NaN</td>\n",
       "      <td>NaN</td>\n",
       "      <td>2007</td>\n",
       "    </tr>\n",
       "    <tr>\n",
       "      <th>4</th>\n",
       "      <td>Adelie</td>\n",
       "      <td>Torgersen</td>\n",
       "      <td>36.7</td>\n",
       "      <td>19.3</td>\n",
       "      <td>193.0</td>\n",
       "      <td>3450.0</td>\n",
       "      <td>female</td>\n",
       "      <td>2007</td>\n",
       "    </tr>\n",
       "    <tr>\n",
       "      <th>...</th>\n",
       "      <td>...</td>\n",
       "      <td>...</td>\n",
       "      <td>...</td>\n",
       "      <td>...</td>\n",
       "      <td>...</td>\n",
       "      <td>...</td>\n",
       "      <td>...</td>\n",
       "      <td>...</td>\n",
       "    </tr>\n",
       "    <tr>\n",
       "      <th>339</th>\n",
       "      <td>Chinstrap</td>\n",
       "      <td>Dream</td>\n",
       "      <td>55.8</td>\n",
       "      <td>19.8</td>\n",
       "      <td>207.0</td>\n",
       "      <td>4000.0</td>\n",
       "      <td>male</td>\n",
       "      <td>2009</td>\n",
       "    </tr>\n",
       "    <tr>\n",
       "      <th>340</th>\n",
       "      <td>Chinstrap</td>\n",
       "      <td>Dream</td>\n",
       "      <td>43.5</td>\n",
       "      <td>18.1</td>\n",
       "      <td>202.0</td>\n",
       "      <td>3400.0</td>\n",
       "      <td>female</td>\n",
       "      <td>2009</td>\n",
       "    </tr>\n",
       "    <tr>\n",
       "      <th>341</th>\n",
       "      <td>Chinstrap</td>\n",
       "      <td>Dream</td>\n",
       "      <td>49.6</td>\n",
       "      <td>18.2</td>\n",
       "      <td>193.0</td>\n",
       "      <td>3775.0</td>\n",
       "      <td>male</td>\n",
       "      <td>2009</td>\n",
       "    </tr>\n",
       "    <tr>\n",
       "      <th>342</th>\n",
       "      <td>Chinstrap</td>\n",
       "      <td>Dream</td>\n",
       "      <td>50.8</td>\n",
       "      <td>19.0</td>\n",
       "      <td>210.0</td>\n",
       "      <td>4100.0</td>\n",
       "      <td>male</td>\n",
       "      <td>2009</td>\n",
       "    </tr>\n",
       "    <tr>\n",
       "      <th>343</th>\n",
       "      <td>Chinstrap</td>\n",
       "      <td>Dream</td>\n",
       "      <td>50.2</td>\n",
       "      <td>18.7</td>\n",
       "      <td>198.0</td>\n",
       "      <td>3775.0</td>\n",
       "      <td>female</td>\n",
       "      <td>2009</td>\n",
       "    </tr>\n",
       "  </tbody>\n",
       "</table>\n",
       "<p>344 rows × 8 columns</p>\n",
       "</div>"
      ],
      "text/plain": [
       "       species     island  bill_length_mm  bill_depth_mm  flipper_length_mm  \\\n",
       "0       Adelie  Torgersen            39.1           18.7              181.0   \n",
       "1       Adelie  Torgersen            39.5           17.4              186.0   \n",
       "2       Adelie  Torgersen            40.3           18.0              195.0   \n",
       "3       Adelie  Torgersen             NaN            NaN                NaN   \n",
       "4       Adelie  Torgersen            36.7           19.3              193.0   \n",
       "..         ...        ...             ...            ...                ...   \n",
       "339  Chinstrap      Dream            55.8           19.8              207.0   \n",
       "340  Chinstrap      Dream            43.5           18.1              202.0   \n",
       "341  Chinstrap      Dream            49.6           18.2              193.0   \n",
       "342  Chinstrap      Dream            50.8           19.0              210.0   \n",
       "343  Chinstrap      Dream            50.2           18.7              198.0   \n",
       "\n",
       "     body_mass_g     sex  year  \n",
       "0         3750.0    male  2007  \n",
       "1         3800.0  female  2007  \n",
       "2         3250.0  female  2007  \n",
       "3            NaN     NaN  2007  \n",
       "4         3450.0  female  2007  \n",
       "..           ...     ...   ...  \n",
       "339       4000.0    male  2009  \n",
       "340       3400.0  female  2009  \n",
       "341       3775.0    male  2009  \n",
       "342       4100.0    male  2009  \n",
       "343       3775.0  female  2009  \n",
       "\n",
       "[344 rows x 8 columns]"
      ]
     },
     "execution_count": 5,
     "metadata": {},
     "output_type": "execute_result"
    }
   ],
   "source": [
    "penguins"
   ]
  },
  {
   "cell_type": "markdown",
   "id": "e5450a11-2d65-4625-a0f2-766ef9ad416b",
   "metadata": {},
   "source": [
    "<h1>Exploratory Data Analysis (EDA)</h1>\n",
    "<hr>"
   ]
  },
  {
   "cell_type": "markdown",
   "id": "81d95a90-ade1-489d-8ade-c3806edccbd0",
   "metadata": {},
   "source": [
    "<h1>1.  What are the species of penguins in the dataset?</h1>"
   ]
  },
  {
   "cell_type": "code",
   "execution_count": 7,
   "id": "d9d071dd-be77-4b4c-8023-bdab84f8b38a",
   "metadata": {},
   "outputs": [
    {
     "data": {
      "text/plain": [
       "0         Adelie\n",
       "1         Adelie\n",
       "2         Adelie\n",
       "3         Adelie\n",
       "4         Adelie\n",
       "         ...    \n",
       "339    Chinstrap\n",
       "340    Chinstrap\n",
       "341    Chinstrap\n",
       "342    Chinstrap\n",
       "343    Chinstrap\n",
       "Name: species, Length: 344, dtype: object"
      ]
     },
     "execution_count": 7,
     "metadata": {},
     "output_type": "execute_result"
    }
   ],
   "source": [
    "penguins['species']"
   ]
  },
  {
   "cell_type": "markdown",
   "id": "7bd27b20-a345-4a1a-9459-8be6365bb024",
   "metadata": {},
   "source": [
    "<h1>Insight No.1</h1>\n",
    "<p>The species of penguins in the dataset are Adelie, Gentoo, and Chinstrap</p>"
   ]
  },
  {
   "cell_type": "markdown",
   "id": "4c2c8e2b-78b2-4d60-9eee-90835923c528",
   "metadata": {},
   "source": [
    "<h1>2. How many penguins belong to each species?</h1>"
   ]
  },
  {
   "cell_type": "code",
   "execution_count": 8,
   "id": "38c454de-3d5b-4093-80fb-86f2f0adff13",
   "metadata": {},
   "outputs": [
    {
     "data": {
      "text/plain": [
       "species\n",
       "Adelie       152\n",
       "Gentoo       124\n",
       "Chinstrap     68\n",
       "Name: count, dtype: int64"
      ]
     },
     "execution_count": 8,
     "metadata": {},
     "output_type": "execute_result"
    }
   ],
   "source": [
    "penguins['species'].value_counts()"
   ]
  },
  {
   "cell_type": "markdown",
   "id": "33a3b09c-c735-4b7e-879d-0a8b359592e6",
   "metadata": {},
   "source": [
    "<h1>Insight No.2</h1>\n",
    "<p>Adelie has 152 penguins, Gentoo has 124 penguins, and Chinstrap has 68 penguiins</p>"
   ]
  },
  {
   "cell_type": "markdown",
   "id": "88d04fd5-e564-4886-bca3-936cbe022bdf",
   "metadata": {},
   "source": [
    "<h1>3. How many penguins were observed on each island?</h1>"
   ]
  },
  {
   "cell_type": "code",
   "execution_count": 19,
   "id": "b6f9e10b-25e9-4598-98b3-6b8eabbbadf6",
   "metadata": {},
   "outputs": [
    {
     "data": {
      "text/plain": [
       "island\n",
       "Biscoe       168\n",
       "Dream        124\n",
       "Torgersen     52\n",
       "Name: count, dtype: int64"
      ]
     },
     "execution_count": 19,
     "metadata": {},
     "output_type": "execute_result"
    }
   ],
   "source": [
    "penguins['island'].value_counts()"
   ]
  },
  {
   "cell_type": "markdown",
   "id": "64fe892e-1d20-4228-bd79-30032321a260",
   "metadata": {},
   "source": [
    "<h1>Insight No.3</h1>\n",
    "<p>In island of Biscoe there was 168 penguins, in Dream ther was 124, and in Torgersen is 52</p>"
   ]
  },
  {
   "cell_type": "markdown",
   "id": "2c564bf8-c63b-48f7-9428-17d95e18194e",
   "metadata": {},
   "source": [
    "<h1>4. What is the average bill length (mm) of all penguins?</h1>"
   ]
  },
  {
   "cell_type": "code",
   "execution_count": 9,
   "id": "c8958b72-5156-4ab1-adee-dba09258f3ff",
   "metadata": {},
   "outputs": [
    {
     "data": {
      "text/plain": [
       "np.float64(43.9219298245614)"
      ]
     },
     "execution_count": 9,
     "metadata": {},
     "output_type": "execute_result"
    }
   ],
   "source": [
    "penguins['bill_length_mm'].mean()"
   ]
  },
  {
   "cell_type": "markdown",
   "id": "e5dfbfb5-c021-4e02-bb48-f2fe0c457708",
   "metadata": {},
   "source": [
    "<h1>Insight No.4</h1>\n",
    "<p>The average bill length (mm) of all penguins is 43.9219298245614</p>"
   ]
  },
  {
   "cell_type": "markdown",
   "id": "f47d3970-c019-468b-99a0-18485bd11442",
   "metadata": {},
   "source": [
    "<h1>5. What is the maximum flipper length (mm) recorded?</h1>"
   ]
  },
  {
   "cell_type": "code",
   "execution_count": 10,
   "id": "a49329d6-9b70-4ff3-b198-9fa3044a6da3",
   "metadata": {},
   "outputs": [
    {
     "data": {
      "text/plain": [
       "np.float64(231.0)"
      ]
     },
     "execution_count": 10,
     "metadata": {},
     "output_type": "execute_result"
    }
   ],
   "source": [
    "penguins['flipper_length_mm'].max()"
   ]
  },
  {
   "cell_type": "markdown",
   "id": "111c540a-0692-4862-93ef-b83a8b04c8a2",
   "metadata": {},
   "source": [
    "<h1>Insight No.5</h1>\n",
    "<p>The maximum flipper length (mm) recorded is 231.0</p>"
   ]
  },
  {
   "cell_type": "markdown",
   "id": "9c7e9437-860c-4c43-b119-18ccd3406676",
   "metadata": {},
   "source": [
    "<h1>6. What is the average body mass (g) for each penguin species?</h1>"
   ]
  },
  {
   "cell_type": "code",
   "execution_count": 11,
   "id": "a91d9cdb-b2c3-4fa4-b4c3-3f105414d405",
   "metadata": {},
   "outputs": [
    {
     "data": {
      "text/plain": [
       "species\n",
       "Adelie       3700.662252\n",
       "Chinstrap    3733.088235\n",
       "Gentoo       5076.016260\n",
       "Name: body_mass_g, dtype: float64"
      ]
     },
     "execution_count": 11,
     "metadata": {},
     "output_type": "execute_result"
    }
   ],
   "source": [
    "penguins.groupby('species')['body_mass_g'].mean()"
   ]
  },
  {
   "cell_type": "markdown",
   "id": "fe56e7c6-0798-41be-b255-d0e8b8e0d8cd",
   "metadata": {},
   "source": [
    "<h1>Insight No.6</h1>\n",
    "<p>The average body mass (g) for Adelie is 3700.662252, Chinstrap is 3733.088235, and Gentoo is 5076.016260</p>"
   ]
  },
  {
   "cell_type": "markdown",
   "id": "180b8a5f-f3b6-4317-9adb-c8840cdb5fa0",
   "metadata": {},
   "source": [
    "<h1>7. What is the average flipper length (mm) for each island?</h1>"
   ]
  },
  {
   "cell_type": "code",
   "execution_count": 12,
   "id": "3a1ea534-335b-4e0d-a5ef-cc1a9e966c80",
   "metadata": {},
   "outputs": [
    {
     "data": {
      "text/plain": [
       "island\n",
       "Biscoe       209.706587\n",
       "Dream        193.072581\n",
       "Torgersen    191.196078\n",
       "Name: flipper_length_mm, dtype: float64"
      ]
     },
     "execution_count": 12,
     "metadata": {},
     "output_type": "execute_result"
    }
   ],
   "source": [
    "penguins.groupby('island')['flipper_length_mm'].mean()"
   ]
  },
  {
   "cell_type": "markdown",
   "id": "e9f6cc3c-6b99-4de5-8c43-c6b10d1c6f7a",
   "metadata": {},
   "source": [
    "<h1>Insight No.7</h1>\n",
    "<p>The average flipper length (mm) for Biscoe is 209.706587, Dream is 193.072581, and Torgersen is 191.196078</p>"
   ]
  },
  {
   "cell_type": "markdown",
   "id": "4f9edecc-b9ea-4fc1-b878-7a66a4d9141c",
   "metadata": {},
   "source": [
    "<h1>8. What is the count of male vs female penguins in each species?</h1>"
   ]
  },
  {
   "cell_type": "code",
   "execution_count": 13,
   "id": "4672724f-75a5-4ec7-a6e3-8c7995f7683f",
   "metadata": {},
   "outputs": [
    {
     "data": {
      "text/plain": [
       "species    sex   \n",
       "Adelie     female    73\n",
       "           male      73\n",
       "Chinstrap  female    34\n",
       "           male      34\n",
       "Gentoo     female    58\n",
       "           male      61\n",
       "dtype: int64"
      ]
     },
     "execution_count": 13,
     "metadata": {},
     "output_type": "execute_result"
    }
   ],
   "source": [
    "penguins.groupby(['species', 'sex']).size()"
   ]
  },
  {
   "cell_type": "markdown",
   "id": "33e4019b-a8f2-4093-a017-666141945234",
   "metadata": {
    "jp-MarkdownHeadingCollapsed": true
   },
   "source": [
    "<h1>Insight No.8</h1>\n",
    "<p>The count of male vs female penguins in each species</p>\n",
    "<p>species    sex</p> \n",
    "<p>Adelie     female    73</p> \n",
    "<p>              male      73</p> \n",
    "<p>Chinstrap  female    34</p> \n",
    "<p>           male      34</p> \n",
    "<p>Gentoo     female    58</p> \n",
    "<p>           male      61</p> "
   ]
  },
  {
   "cell_type": "markdown",
   "id": "072788fb-6a63-4af5-8a09-2d28ba9e6343",
   "metadata": {},
   "source": [
    "<h1>9. What is the average bill depth (mm) grouped by species and sex?</h1>"
   ]
  },
  {
   "cell_type": "code",
   "execution_count": 14,
   "id": "be95cdc2-f661-4d25-a3d2-2f5df6f7cc42",
   "metadata": {},
   "outputs": [
    {
     "data": {
      "text/plain": [
       "species    sex   \n",
       "Adelie     female    17.621918\n",
       "           male      19.072603\n",
       "Chinstrap  female    17.588235\n",
       "           male      19.252941\n",
       "Gentoo     female    14.237931\n",
       "           male      15.718033\n",
       "Name: bill_depth_mm, dtype: float64"
      ]
     },
     "execution_count": 14,
     "metadata": {},
     "output_type": "execute_result"
    }
   ],
   "source": [
    "penguins.groupby(['species', 'sex'])['bill_depth_mm'].mean()"
   ]
  },
  {
   "cell_type": "markdown",
   "id": "be12dd8e-d077-410d-aefc-0a93796cc92b",
   "metadata": {},
   "source": [
    "<h1>Insight No.9</h1>\n",
    "<p>The average bill depth (mm) grouped by species and sex</p>\n",
    "<p>   \n",
    "Adelie     female    17.621918\n",
    "           male      19.072603\n",
    "Chinstrap  female    17.588235\n",
    "           male      19.252941\n",
    "Gentoo     female    14.237931\n",
    "           male      15.718033</p>"
   ]
  },
  {
   "cell_type": "markdown",
   "id": "bfc22c2a-fe2b-4aba-a27f-a64296032bb3",
   "metadata": {},
   "source": [
    "<h1>10. Is there a correlation between bill length (mm) and flipper length (mm)?</h1>"
   ]
  },
  {
   "cell_type": "code",
   "execution_count": 15,
   "id": "b49a5f52-4980-4984-8bf9-81fd5ad1814f",
   "metadata": {},
   "outputs": [
    {
     "data": {
      "text/html": [
       "<div>\n",
       "<style scoped>\n",
       "    .dataframe tbody tr th:only-of-type {\n",
       "        vertical-align: middle;\n",
       "    }\n",
       "\n",
       "    .dataframe tbody tr th {\n",
       "        vertical-align: top;\n",
       "    }\n",
       "\n",
       "    .dataframe thead th {\n",
       "        text-align: right;\n",
       "    }\n",
       "</style>\n",
       "<table border=\"1\" class=\"dataframe\">\n",
       "  <thead>\n",
       "    <tr style=\"text-align: right;\">\n",
       "      <th></th>\n",
       "      <th>bill_length_mm</th>\n",
       "      <th>flipper_length_mm</th>\n",
       "    </tr>\n",
       "  </thead>\n",
       "  <tbody>\n",
       "    <tr>\n",
       "      <th>bill_length_mm</th>\n",
       "      <td>1.000000</td>\n",
       "      <td>0.656181</td>\n",
       "    </tr>\n",
       "    <tr>\n",
       "      <th>flipper_length_mm</th>\n",
       "      <td>0.656181</td>\n",
       "      <td>1.000000</td>\n",
       "    </tr>\n",
       "  </tbody>\n",
       "</table>\n",
       "</div>"
      ],
      "text/plain": [
       "                   bill_length_mm  flipper_length_mm\n",
       "bill_length_mm           1.000000           0.656181\n",
       "flipper_length_mm        0.656181           1.000000"
      ]
     },
     "execution_count": 15,
     "metadata": {},
     "output_type": "execute_result"
    }
   ],
   "source": [
    "penguins[['bill_length_mm', 'flipper_length_mm']].corr()"
   ]
  },
  {
   "cell_type": "markdown",
   "id": "a63ab2c8-0eae-4589-9e70-fcf8ab2bd729",
   "metadata": {},
   "source": [
    "<h1>Insight No.10</h1>\n",
    "<p>Yes, there is a correlation between bill length (mm) and flipper length (mm)</p>"
   ]
  },
  {
   "cell_type": "markdown",
   "id": "5e5699fb-09b3-4f7d-ac34-bd99ad39b8d0",
   "metadata": {},
   "source": [
    "<h1>11. Is there a correlation between body mass (g) and flipper length (mm)?</h1>"
   ]
  },
  {
   "cell_type": "code",
   "execution_count": 17,
   "id": "de82aac7-3b29-4314-86b0-9aad4f1e63da",
   "metadata": {},
   "outputs": [
    {
     "data": {
      "text/html": [
       "<div>\n",
       "<style scoped>\n",
       "    .dataframe tbody tr th:only-of-type {\n",
       "        vertical-align: middle;\n",
       "    }\n",
       "\n",
       "    .dataframe tbody tr th {\n",
       "        vertical-align: top;\n",
       "    }\n",
       "\n",
       "    .dataframe thead th {\n",
       "        text-align: right;\n",
       "    }\n",
       "</style>\n",
       "<table border=\"1\" class=\"dataframe\">\n",
       "  <thead>\n",
       "    <tr style=\"text-align: right;\">\n",
       "      <th></th>\n",
       "      <th>body_mass_g</th>\n",
       "      <th>flipper_length_mm</th>\n",
       "    </tr>\n",
       "  </thead>\n",
       "  <tbody>\n",
       "    <tr>\n",
       "      <th>body_mass_g</th>\n",
       "      <td>1.000000</td>\n",
       "      <td>0.871202</td>\n",
       "    </tr>\n",
       "    <tr>\n",
       "      <th>flipper_length_mm</th>\n",
       "      <td>0.871202</td>\n",
       "      <td>1.000000</td>\n",
       "    </tr>\n",
       "  </tbody>\n",
       "</table>\n",
       "</div>"
      ],
      "text/plain": [
       "                   body_mass_g  flipper_length_mm\n",
       "body_mass_g           1.000000           0.871202\n",
       "flipper_length_mm     0.871202           1.000000"
      ]
     },
     "execution_count": 17,
     "metadata": {},
     "output_type": "execute_result"
    }
   ],
   "source": [
    "penguins[['body_mass_g', 'flipper_length_mm']].corr()"
   ]
  },
  {
   "cell_type": "markdown",
   "id": "4ef4c850-0a7b-42b2-a462-060049d13c1b",
   "metadata": {},
   "source": [
    "<h1>Insight No.11</h1>\n",
    "<p>Yes, there is a correlation between body mass (g) and flipper length (mm)</p>"
   ]
  },
  {
   "cell_type": "markdown",
   "id": "e1a3aa9d-3692-4e39-a9c9-342ab9c4f86b",
   "metadata": {},
   "source": [
    "<h1>12. Compare the average body mass (g) of male and female penguins</h1>"
   ]
  },
  {
   "cell_type": "code",
   "execution_count": 16,
   "id": "b1cfcecb-9552-4a77-9a4c-f93c58fe22ef",
   "metadata": {},
   "outputs": [
    {
     "data": {
      "text/plain": [
       "sex\n",
       "female    3862.272727\n",
       "male      4545.684524\n",
       "Name: body_mass_g, dtype: float64"
      ]
     },
     "execution_count": 16,
     "metadata": {},
     "output_type": "execute_result"
    }
   ],
   "source": [
    "penguins.groupby('sex')['body_mass_g'].mean()"
   ]
  },
  {
   "cell_type": "markdown",
   "id": "74ac8f87-424b-428f-9f80-e14b17431f5c",
   "metadata": {},
   "source": [
    "<h1>Insight No.12</h1>\n",
    "<p>The average body mass (g) of male penguin is 4545.684524 and female penguin is 3862.272727</p>"
   ]
  },
  {
   "cell_type": "code",
   "execution_count": null,
   "id": "d1a0740a-906f-4fc2-8723-a2058243f201",
   "metadata": {},
   "outputs": [],
   "source": []
  }
 ],
 "metadata": {
  "kernelspec": {
   "display_name": "Python 3 (ipykernel)",
   "language": "python",
   "name": "python3"
  },
  "language_info": {
   "codemirror_mode": {
    "name": "ipython",
    "version": 3
   },
   "file_extension": ".py",
   "mimetype": "text/x-python",
   "name": "python",
   "nbconvert_exporter": "python",
   "pygments_lexer": "ipython3",
   "version": "3.13.1"
  }
 },
 "nbformat": 4,
 "nbformat_minor": 5
}
