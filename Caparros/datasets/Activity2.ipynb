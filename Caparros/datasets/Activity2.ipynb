{
 "cells": [
  {
   "cell_type": "markdown",
   "id": "6c7fce41-8b38-41f1-8d88-d67124719b5f",
   "metadata": {},
   "source": [
    "<h1>Activity 2: UK_ACCIDENT_DATA OVERVIEW</h1>\n",
    "<p>Analyst: Arnel N. Caparros</p>\n",
    "<hr>"
   ]
  },
  {
   "cell_type": "code",
   "execution_count": 1,
   "id": "9a7b0986-6334-45a4-9a78-859f4088511e",
   "metadata": {},
   "outputs": [],
   "source": [
    "import numpy as np\n",
    "import pandas as pd\n",
    "import warnings\n",
    "warnings.filterwarnings('ignore')\n",
    "import matplotlib.pyplot as plt\n",
    "import seaborn as sns"
   ]
  },
  {
   "cell_type": "code",
   "execution_count": 2,
   "id": "ed9be487-e6a1-4dce-9b63-e010c149f7b6",
   "metadata": {},
   "outputs": [],
   "source": [
    "accidents = pd.read_csv('uk_accident_data.csv')"
   ]
  },
  {
   "cell_type": "code",
   "execution_count": 3,
   "id": "e19ebf77-bc48-44f7-af8f-60de47baca3d",
   "metadata": {},
   "outputs": [
    {
     "data": {
      "text/html": [
       "<div>\n",
       "<style scoped>\n",
       "    .dataframe tbody tr th:only-of-type {\n",
       "        vertical-align: middle;\n",
       "    }\n",
       "\n",
       "    .dataframe tbody tr th {\n",
       "        vertical-align: top;\n",
       "    }\n",
       "\n",
       "    .dataframe thead th {\n",
       "        text-align: right;\n",
       "    }\n",
       "</style>\n",
       "<table border=\"1\" class=\"dataframe\">\n",
       "  <thead>\n",
       "    <tr style=\"text-align: right;\">\n",
       "      <th></th>\n",
       "      <th>Index</th>\n",
       "      <th>Accident_Severity</th>\n",
       "      <th>Accident Date</th>\n",
       "      <th>Latitude</th>\n",
       "      <th>Light_Conditions</th>\n",
       "      <th>District Area</th>\n",
       "      <th>Longitude</th>\n",
       "      <th>Number_of_Casualties</th>\n",
       "      <th>Number_of_Vehicles</th>\n",
       "      <th>Road_Surface_Conditions</th>\n",
       "      <th>Road_Type</th>\n",
       "      <th>Urban_or_Rural_Area</th>\n",
       "      <th>Weather_Conditions</th>\n",
       "      <th>Vehicle_Type</th>\n",
       "    </tr>\n",
       "  </thead>\n",
       "  <tbody>\n",
       "    <tr>\n",
       "      <th>0</th>\n",
       "      <td>200701BS64157</td>\n",
       "      <td>Serious</td>\n",
       "      <td>05/06/2019</td>\n",
       "      <td>51.506187</td>\n",
       "      <td>Darkness - lights lit</td>\n",
       "      <td>Kensington and Chelsea</td>\n",
       "      <td>-0.209082</td>\n",
       "      <td>1</td>\n",
       "      <td>2</td>\n",
       "      <td>Dry</td>\n",
       "      <td>Single carriageway</td>\n",
       "      <td>Urban</td>\n",
       "      <td>Fine no high winds</td>\n",
       "      <td>Car</td>\n",
       "    </tr>\n",
       "    <tr>\n",
       "      <th>1</th>\n",
       "      <td>200701BS65737</td>\n",
       "      <td>Serious</td>\n",
       "      <td>02/07/2019</td>\n",
       "      <td>51.495029</td>\n",
       "      <td>Daylight</td>\n",
       "      <td>Kensington and Chelsea</td>\n",
       "      <td>-0.173647</td>\n",
       "      <td>1</td>\n",
       "      <td>2</td>\n",
       "      <td>Wet or damp</td>\n",
       "      <td>Single carriageway</td>\n",
       "      <td>Urban</td>\n",
       "      <td>Raining no high winds</td>\n",
       "      <td>Car</td>\n",
       "    </tr>\n",
       "    <tr>\n",
       "      <th>2</th>\n",
       "      <td>200701BS66127</td>\n",
       "      <td>Serious</td>\n",
       "      <td>26/08/2019</td>\n",
       "      <td>51.517715</td>\n",
       "      <td>Darkness - lighting unknown</td>\n",
       "      <td>Kensington and Chelsea</td>\n",
       "      <td>-0.210215</td>\n",
       "      <td>1</td>\n",
       "      <td>3</td>\n",
       "      <td>Dry</td>\n",
       "      <td>NaN</td>\n",
       "      <td>Urban</td>\n",
       "      <td>NaN</td>\n",
       "      <td>Taxi/Private hire car</td>\n",
       "    </tr>\n",
       "    <tr>\n",
       "      <th>3</th>\n",
       "      <td>200701BS66128</td>\n",
       "      <td>Serious</td>\n",
       "      <td>16/08/2019</td>\n",
       "      <td>51.495478</td>\n",
       "      <td>Daylight</td>\n",
       "      <td>Kensington and Chelsea</td>\n",
       "      <td>-0.202731</td>\n",
       "      <td>1</td>\n",
       "      <td>4</td>\n",
       "      <td>Dry</td>\n",
       "      <td>Single carriageway</td>\n",
       "      <td>Urban</td>\n",
       "      <td>Fine no high winds</td>\n",
       "      <td>Bus or coach (17 or more pass seats)</td>\n",
       "    </tr>\n",
       "    <tr>\n",
       "      <th>4</th>\n",
       "      <td>200701BS66837</td>\n",
       "      <td>Slight</td>\n",
       "      <td>03/09/2019</td>\n",
       "      <td>51.488576</td>\n",
       "      <td>Darkness - lights lit</td>\n",
       "      <td>Kensington and Chelsea</td>\n",
       "      <td>-0.192487</td>\n",
       "      <td>1</td>\n",
       "      <td>2</td>\n",
       "      <td>Dry</td>\n",
       "      <td>NaN</td>\n",
       "      <td>Urban</td>\n",
       "      <td>NaN</td>\n",
       "      <td>Other vehicle</td>\n",
       "    </tr>\n",
       "    <tr>\n",
       "      <th>...</th>\n",
       "      <td>...</td>\n",
       "      <td>...</td>\n",
       "      <td>...</td>\n",
       "      <td>...</td>\n",
       "      <td>...</td>\n",
       "      <td>...</td>\n",
       "      <td>...</td>\n",
       "      <td>...</td>\n",
       "      <td>...</td>\n",
       "      <td>...</td>\n",
       "      <td>...</td>\n",
       "      <td>...</td>\n",
       "      <td>...</td>\n",
       "      <td>...</td>\n",
       "    </tr>\n",
       "    <tr>\n",
       "      <th>660674</th>\n",
       "      <td>201091NM01760</td>\n",
       "      <td>Slight</td>\n",
       "      <td>18/02/2022</td>\n",
       "      <td>57.374005</td>\n",
       "      <td>Daylight</td>\n",
       "      <td>Highland</td>\n",
       "      <td>-3.467828</td>\n",
       "      <td>2</td>\n",
       "      <td>1</td>\n",
       "      <td>Dry</td>\n",
       "      <td>Single carriageway</td>\n",
       "      <td>Rural</td>\n",
       "      <td>Fine no high winds</td>\n",
       "      <td>Car</td>\n",
       "    </tr>\n",
       "    <tr>\n",
       "      <th>660675</th>\n",
       "      <td>201091NM01881</td>\n",
       "      <td>Slight</td>\n",
       "      <td>21/02/2022</td>\n",
       "      <td>57.232273</td>\n",
       "      <td>Darkness - no lighting</td>\n",
       "      <td>Highland</td>\n",
       "      <td>-3.809281</td>\n",
       "      <td>1</td>\n",
       "      <td>1</td>\n",
       "      <td>Frost or ice</td>\n",
       "      <td>Single carriageway</td>\n",
       "      <td>Rural</td>\n",
       "      <td>Fine no high winds</td>\n",
       "      <td>Car</td>\n",
       "    </tr>\n",
       "    <tr>\n",
       "      <th>660676</th>\n",
       "      <td>201091NM01935</td>\n",
       "      <td>Slight</td>\n",
       "      <td>23/02/2022</td>\n",
       "      <td>57.585044</td>\n",
       "      <td>Daylight</td>\n",
       "      <td>Highland</td>\n",
       "      <td>-3.862727</td>\n",
       "      <td>1</td>\n",
       "      <td>3</td>\n",
       "      <td>Frost or ice</td>\n",
       "      <td>Single carriageway</td>\n",
       "      <td>Rural</td>\n",
       "      <td>Fine no high winds</td>\n",
       "      <td>Car</td>\n",
       "    </tr>\n",
       "    <tr>\n",
       "      <th>660677</th>\n",
       "      <td>201091NM01964</td>\n",
       "      <td>Serious</td>\n",
       "      <td>23/02/2022</td>\n",
       "      <td>57.214898</td>\n",
       "      <td>Darkness - no lighting</td>\n",
       "      <td>Highland</td>\n",
       "      <td>-3.823997</td>\n",
       "      <td>1</td>\n",
       "      <td>2</td>\n",
       "      <td>Wet or damp</td>\n",
       "      <td>Single carriageway</td>\n",
       "      <td>Rural</td>\n",
       "      <td>Fine no high winds</td>\n",
       "      <td>Motorcycle over 500cc</td>\n",
       "    </tr>\n",
       "    <tr>\n",
       "      <th>660678</th>\n",
       "      <td>201091NM02142</td>\n",
       "      <td>Serious</td>\n",
       "      <td>28/02/2022</td>\n",
       "      <td>57.575210</td>\n",
       "      <td>Daylight</td>\n",
       "      <td>Highland</td>\n",
       "      <td>-3.895673</td>\n",
       "      <td>1</td>\n",
       "      <td>1</td>\n",
       "      <td>Wet or damp</td>\n",
       "      <td>Dual carriageway</td>\n",
       "      <td>Rural</td>\n",
       "      <td>Snowing no high winds</td>\n",
       "      <td>Car</td>\n",
       "    </tr>\n",
       "  </tbody>\n",
       "</table>\n",
       "<p>660679 rows × 14 columns</p>\n",
       "</div>"
      ],
      "text/plain": [
       "                Index Accident_Severity Accident Date   Latitude  \\\n",
       "0       200701BS64157           Serious    05/06/2019  51.506187   \n",
       "1       200701BS65737           Serious    02/07/2019  51.495029   \n",
       "2       200701BS66127           Serious    26/08/2019  51.517715   \n",
       "3       200701BS66128           Serious    16/08/2019  51.495478   \n",
       "4       200701BS66837            Slight    03/09/2019  51.488576   \n",
       "...               ...               ...           ...        ...   \n",
       "660674  201091NM01760            Slight    18/02/2022  57.374005   \n",
       "660675  201091NM01881            Slight    21/02/2022  57.232273   \n",
       "660676  201091NM01935            Slight    23/02/2022  57.585044   \n",
       "660677  201091NM01964           Serious    23/02/2022  57.214898   \n",
       "660678  201091NM02142           Serious    28/02/2022  57.575210   \n",
       "\n",
       "                   Light_Conditions           District Area  Longitude  \\\n",
       "0             Darkness - lights lit  Kensington and Chelsea  -0.209082   \n",
       "1                          Daylight  Kensington and Chelsea  -0.173647   \n",
       "2       Darkness - lighting unknown  Kensington and Chelsea  -0.210215   \n",
       "3                          Daylight  Kensington and Chelsea  -0.202731   \n",
       "4             Darkness - lights lit  Kensington and Chelsea  -0.192487   \n",
       "...                             ...                     ...        ...   \n",
       "660674                     Daylight                Highland  -3.467828   \n",
       "660675       Darkness - no lighting                Highland  -3.809281   \n",
       "660676                     Daylight                Highland  -3.862727   \n",
       "660677       Darkness - no lighting                Highland  -3.823997   \n",
       "660678                     Daylight                Highland  -3.895673   \n",
       "\n",
       "        Number_of_Casualties  Number_of_Vehicles Road_Surface_Conditions  \\\n",
       "0                          1                   2                     Dry   \n",
       "1                          1                   2             Wet or damp   \n",
       "2                          1                   3                     Dry   \n",
       "3                          1                   4                     Dry   \n",
       "4                          1                   2                     Dry   \n",
       "...                      ...                 ...                     ...   \n",
       "660674                     2                   1                     Dry   \n",
       "660675                     1                   1            Frost or ice   \n",
       "660676                     1                   3            Frost or ice   \n",
       "660677                     1                   2             Wet or damp   \n",
       "660678                     1                   1             Wet or damp   \n",
       "\n",
       "                 Road_Type Urban_or_Rural_Area     Weather_Conditions  \\\n",
       "0       Single carriageway               Urban     Fine no high winds   \n",
       "1       Single carriageway               Urban  Raining no high winds   \n",
       "2                      NaN               Urban                    NaN   \n",
       "3       Single carriageway               Urban     Fine no high winds   \n",
       "4                      NaN               Urban                    NaN   \n",
       "...                    ...                 ...                    ...   \n",
       "660674  Single carriageway               Rural     Fine no high winds   \n",
       "660675  Single carriageway               Rural     Fine no high winds   \n",
       "660676  Single carriageway               Rural     Fine no high winds   \n",
       "660677  Single carriageway               Rural     Fine no high winds   \n",
       "660678    Dual carriageway               Rural  Snowing no high winds   \n",
       "\n",
       "                                Vehicle_Type  \n",
       "0                                        Car  \n",
       "1                                        Car  \n",
       "2                      Taxi/Private hire car  \n",
       "3       Bus or coach (17 or more pass seats)  \n",
       "4                              Other vehicle  \n",
       "...                                      ...  \n",
       "660674                                   Car  \n",
       "660675                                   Car  \n",
       "660676                                   Car  \n",
       "660677                 Motorcycle over 500cc  \n",
       "660678                                   Car  \n",
       "\n",
       "[660679 rows x 14 columns]"
      ]
     },
     "execution_count": 3,
     "metadata": {},
     "output_type": "execute_result"
    }
   ],
   "source": [
    "accidents"
   ]
  },
  {
   "cell_type": "markdown",
   "id": "096eccef-5242-4d5f-877e-0c7a43f313f3",
   "metadata": {},
   "source": [
    "<h2>Exploratory Data Analytics (EDA)</h2>\n",
    "<hr>"
   ]
  },
  {
   "cell_type": "markdown",
   "id": "fd3a342f-f15c-43d6-bdea-1a0f80914dc8",
   "metadata": {},
   "source": [
    "<h1>1. How many total accidents are recorded in the dataset?</h1>"
   ]
  },
  {
   "cell_type": "code",
   "execution_count": 4,
   "id": "16943037-38d4-452f-9d5d-9486bf84a36c",
   "metadata": {},
   "outputs": [],
   "source": [
    "total_accidents = accidents.shape[0]"
   ]
  },
  {
   "cell_type": "code",
   "execution_count": 5,
   "id": "b82d2489-da58-4ae6-a8dc-6c5044d2dad7",
   "metadata": {},
   "outputs": [
    {
     "data": {
      "text/plain": [
       "660679"
      ]
     },
     "execution_count": 5,
     "metadata": {},
     "output_type": "execute_result"
    }
   ],
   "source": [
    "total_accidents"
   ]
  },
  {
   "cell_type": "markdown",
   "id": "7e3cee7d-cf73-4bb3-b87c-e82f79d8931b",
   "metadata": {},
   "source": [
    "<p>Insight NO.1: The total accidents are recorded in the dataset is \"660679\"</p>\n",
    "<hr>"
   ]
  },
  {
   "cell_type": "markdown",
   "id": "fa9387c7-1718-4389-98fb-89f8930a3a3d",
   "metadata": {},
   "source": [
    "<h1>2.What Light_Conditions do most accidents occur?</h1>"
   ]
  },
  {
   "cell_type": "code",
   "execution_count": 6,
   "id": "5d59ccf9-b5bf-4fb1-95c8-6350fb038bb2",
   "metadata": {},
   "outputs": [
    {
     "data": {
      "text/plain": [
       "Light_Conditions\n",
       "Daylight                       484880\n",
       "Darkness - lights lit          129335\n",
       "Darkness - no lighting          37437\n",
       "Darkness - lighting unknown      6484\n",
       "Darkness - lights unlit          2543\n",
       "Name: count, dtype: int64"
      ]
     },
     "execution_count": 6,
     "metadata": {},
     "output_type": "execute_result"
    }
   ],
   "source": [
    "accidents['Light_Conditions'].value_counts()"
   ]
  },
  {
   "cell_type": "markdown",
   "id": "6637c016-d78d-4d45-a67e-3a6a0a821285",
   "metadata": {},
   "source": [
    "<p>Insight NO.2: The Light_Conditions with the most accidents occur was Daylight</p>\n",
    "<hr>"
   ]
  },
  {
   "cell_type": "markdown",
   "id": "e3a07bf5-3419-4698-8366-ec83711606c3",
   "metadata": {},
   "source": [
    "<h1>3. What is the distribution of accidents by severity?</h1>"
   ]
  },
  {
   "cell_type": "code",
   "execution_count": 7,
   "id": "e955fed8-fa86-4999-b53c-d168c0f7af1b",
   "metadata": {},
   "outputs": [
    {
     "data": {
      "text/plain": [
       "Accident_Severity\n",
       "Slight     563801\n",
       "Serious     88217\n",
       "Fatal        8661\n",
       "Name: count, dtype: int64"
      ]
     },
     "execution_count": 7,
     "metadata": {},
     "output_type": "execute_result"
    }
   ],
   "source": [
    "accidents['Accident_Severity'].value_counts()"
   ]
  },
  {
   "cell_type": "markdown",
   "id": "940d4f32-f663-47fe-8d18-7ec2f173458a",
   "metadata": {},
   "source": [
    "<p>Insight NO.3: The distribution of accidents by severity are:</p>\n",
    "Slight     </p>\n",
    "Serious     </p>\n",
    "Fatal        </p>\n",
    "<hr>"
   ]
  },
  {
   "cell_type": "markdown",
   "id": "76041b53-4f72-4478-9179-03d660b858d1",
   "metadata": {},
   "source": [
    "<h1>4. Which severity category has the highest number of accidents?</h1>"
   ]
  },
  {
   "cell_type": "code",
   "execution_count": 8,
   "id": "1ce8b3d3-9e48-4564-b358-161562b6996f",
   "metadata": {},
   "outputs": [
    {
     "data": {
      "text/plain": [
       "'Slight'"
      ]
     },
     "execution_count": 8,
     "metadata": {},
     "output_type": "execute_result"
    }
   ],
   "source": [
    "accidents['Accident_Severity'].max()"
   ]
  },
  {
   "cell_type": "markdown",
   "id": "c6e28d5a-f75b-424b-8e06-043903cf317c",
   "metadata": {},
   "source": [
    "<p>Insight NO.4: The severity category with the highest number of accidents is \"Slight\"</p>\n",
    "<hr>"
   ]
  },
  {
   "cell_type": "markdown",
   "id": "6054ba80-7958-49b5-b5d5-10de732d273b",
   "metadata": {},
   "source": [
    "<h1>5. Which District Area has the most accidents?</h1> "
   ]
  },
  {
   "cell_type": "code",
   "execution_count": 9,
   "id": "849e9032-88dd-40ce-bc70-5f6956aa2d3f",
   "metadata": {},
   "outputs": [
    {
     "data": {
      "text/plain": [
       "'York'"
      ]
     },
     "execution_count": 9,
     "metadata": {},
     "output_type": "execute_result"
    }
   ],
   "source": [
    "accidents['District Area'].max()"
   ]
  },
  {
   "cell_type": "markdown",
   "id": "8d9df05d-0736-4ff6-aa70-b290aab007aa",
   "metadata": {},
   "source": [
    "<p>Insight NO.5: The District Area with the most accidents is \"York\"</p>\n",
    "<hr>"
   ]
  },
  {
   "cell_type": "markdown",
   "id": "23d53ab6-8e16-4bfe-a229-2c476bd53cdc",
   "metadata": {},
   "source": [
    "<h1>6. Are urban areas riskier than rural areas in terms of accident counts?</h1>"
   ]
  },
  {
   "cell_type": "code",
   "execution_count": 10,
   "id": "3ece4a21-603d-46cb-b6bf-276f24d45772",
   "metadata": {},
   "outputs": [
    {
     "data": {
      "text/plain": [
       "Urban_or_Rural_Area\n",
       "Urban          421663\n",
       "Rural          238990\n",
       "Unallocated        11\n",
       "Name: count, dtype: int64"
      ]
     },
     "execution_count": 10,
     "metadata": {},
     "output_type": "execute_result"
    }
   ],
   "source": [
    "accidents['Urban_or_Rural_Area'].value_counts()"
   ]
  },
  {
   "cell_type": "markdown",
   "id": "3bdafff8-a4e9-4215-9bca-3ec609919fea",
   "metadata": {},
   "source": [
    "<p>Insight NO.6: The data shows that it is riskier to Urban to rural</p>\n",
    "<hr>"
   ]
  },
  {
   "cell_type": "markdown",
   "id": "9bbbd11c-b3a6-4698-9889-cf47307b4601",
   "metadata": {},
   "source": [
    "<h1>7. What Road_Surface_Conditions has the most accidents?</h1>"
   ]
  },
  {
   "cell_type": "code",
   "execution_count": 11,
   "id": "ac890d9c-9439-40a0-ae46-a17589e31cc0",
   "metadata": {},
   "outputs": [
    {
     "data": {
      "text/plain": [
       "Road_Surface_Conditions\n",
       "Dry                     447821\n",
       "Wet or damp             186708\n",
       "Frost or ice             18517\n",
       "Snow                      5890\n",
       "Flood over 3cm. deep      1017\n",
       "Name: count, dtype: int64"
      ]
     },
     "execution_count": 11,
     "metadata": {},
     "output_type": "execute_result"
    }
   ],
   "source": [
    "accidents['Road_Surface_Conditions'].value_counts()"
   ]
  },
  {
   "cell_type": "markdown",
   "id": "5e2599df-fb97-4b8b-802b-d8d4648bb2b4",
   "metadata": {},
   "source": [
    "<p>Insight NO.7: The data shows that the Road_Surface_Conditions with the highest accidents is \"Dry\"</p>\n",
    "<hr>"
   ]
  },
  {
   "cell_type": "markdown",
   "id": "3e652a4d-0b51-48f8-8263-696e803981dd",
   "metadata": {},
   "source": [
    "<h1>8. How many Number_of_Casualties are recorded in the dataset?\n",
    "</h1>"
   ]
  },
  {
   "cell_type": "code",
   "execution_count": 12,
   "id": "11a34d74-b5df-4213-9f5b-5eaac5cab72f",
   "metadata": {},
   "outputs": [
    {
     "data": {
      "text/plain": [
       "np.int64(896568)"
      ]
     },
     "execution_count": 12,
     "metadata": {},
     "output_type": "execute_result"
    }
   ],
   "source": [
    "accidents['Number_of_Casualties'].sum()"
   ]
  },
  {
   "cell_type": "markdown",
   "id": "0c1ff138-2557-4b29-ab12-806757f38917",
   "metadata": {},
   "source": [
    "<p>Insight NO.7: The Number_of_Casualties that recorded in the dataset is \"896568\"</p>\n",
    "<hr>"
   ]
  },
  {
   "cell_type": "markdown",
   "id": "6422b6ed-2d64-4c02-9058-a8705c92a359",
   "metadata": {},
   "source": [
    "<h1>9. What is the max Number_of_Casualties that recorded in the dataset? ¶</h1>"
   ]
  },
  {
   "cell_type": "code",
   "execution_count": 13,
   "id": "1a78920e-35d6-47d3-b184-9be00d1b8d1d",
   "metadata": {},
   "outputs": [
    {
     "data": {
      "text/plain": [
       "np.int64(68)"
      ]
     },
     "execution_count": 13,
     "metadata": {},
     "output_type": "execute_result"
    }
   ],
   "source": [
    "accidents['Number_of_Casualties'].max()"
   ]
  },
  {
   "cell_type": "markdown",
   "id": "f1b8ec1a-6119-482c-9e53-ec0ab7b970c5",
   "metadata": {},
   "source": [
    "<p>Insight NO.7: The max Number_of_Casualties that recorded in the dataset is \"68\"</p>\n",
    "<hr>"
   ]
  },
  {
   "cell_type": "markdown",
   "id": "c15a56fd-4d0d-4ea9-8dca-8b259006f1ca",
   "metadata": {},
   "source": [
    "<h1>10. Do accidents occur more frequently on single carriageways, dual carriageways, or motorways?</h1>"
   ]
  },
  {
   "cell_type": "code",
   "execution_count": 14,
   "id": "1904ec31-7961-4753-b207-bb96a9f9522d",
   "metadata": {},
   "outputs": [
    {
     "data": {
      "text/plain": [
       "Road_Type\n",
       "Single carriageway    492143\n",
       "Dual carriageway       99424\n",
       "Roundabout             43992\n",
       "One way street         13559\n",
       "Slip road               7041\n",
       "Name: count, dtype: int64"
      ]
     },
     "execution_count": 14,
     "metadata": {},
     "output_type": "execute_result"
    }
   ],
   "source": [
    "accidents['Road_Type'].value_counts()"
   ]
  },
  {
   "cell_type": "markdown",
   "id": "5f630045-706b-4485-bca2-d616f4f1a224",
   "metadata": {},
   "source": [
    "<p>Insights NO. 10: The data shows that in the \"Single carriageway\", accidents occurs more</p>\n",
    "<hr>"
   ]
  },
  {
   "cell_type": "markdown",
   "id": "dee82615-0522-4037-ac38-646b53786b7e",
   "metadata": {},
   "source": [
    "<h1>11. Is there a correlation between Number_of_Casualties and Number_of_Vehicles?</h1>"
   ]
  },
  {
   "cell_type": "code",
   "execution_count": 15,
   "id": "5bce61c2-ba43-4a26-b782-976e391f8d35",
   "metadata": {},
   "outputs": [
    {
     "data": {
      "text/html": [
       "<div>\n",
       "<style scoped>\n",
       "    .dataframe tbody tr th:only-of-type {\n",
       "        vertical-align: middle;\n",
       "    }\n",
       "\n",
       "    .dataframe tbody tr th {\n",
       "        vertical-align: top;\n",
       "    }\n",
       "\n",
       "    .dataframe thead th {\n",
       "        text-align: right;\n",
       "    }\n",
       "</style>\n",
       "<table border=\"1\" class=\"dataframe\">\n",
       "  <thead>\n",
       "    <tr style=\"text-align: right;\">\n",
       "      <th></th>\n",
       "      <th>Number_of_Casualties</th>\n",
       "      <th>Number_of_Vehicles</th>\n",
       "    </tr>\n",
       "  </thead>\n",
       "  <tbody>\n",
       "    <tr>\n",
       "      <th>Number_of_Casualties</th>\n",
       "      <td>1.000000</td>\n",
       "      <td>0.228889</td>\n",
       "    </tr>\n",
       "    <tr>\n",
       "      <th>Number_of_Vehicles</th>\n",
       "      <td>0.228889</td>\n",
       "      <td>1.000000</td>\n",
       "    </tr>\n",
       "  </tbody>\n",
       "</table>\n",
       "</div>"
      ],
      "text/plain": [
       "                      Number_of_Casualties  Number_of_Vehicles\n",
       "Number_of_Casualties              1.000000            0.228889\n",
       "Number_of_Vehicles                0.228889            1.000000"
      ]
     },
     "execution_count": 15,
     "metadata": {},
     "output_type": "execute_result"
    }
   ],
   "source": [
    "accidents[['Number_of_Casualties','Number_of_Vehicles']].corr()"
   ]
  },
  {
   "cell_type": "markdown",
   "id": "fba659e3-096e-4ec8-ba9e-320497440d85",
   "metadata": {},
   "source": [
    "<p>Insights NO. 11: It shows that as the number of vehicles increases, casualties tend to increase slightly, but the relationship is weak.</p>\n",
    "<hr>"
   ]
  },
  {
   "cell_type": "markdown",
   "id": "53f70da1-1fe1-49bb-a2a4-e1ef6dde579e",
   "metadata": {},
   "source": [
    "<h1>12. How many vehicles are involved per Accident_Severity (Slight, Serious and Fatal)?</h1>"
   ]
  },
  {
   "cell_type": "code",
   "execution_count": 16,
   "id": "6270eb5e-4d39-4372-93df-195fbde20eff",
   "metadata": {},
   "outputs": [],
   "source": [
    "avg_by_severity = accidents.groupby(\"Accident_Severity\")[\"Number_of_Vehicles\"].sum()"
   ]
  },
  {
   "cell_type": "code",
   "execution_count": 17,
   "id": "89d447c6-7102-4bfe-8b5b-6749b93ae0f0",
   "metadata": {},
   "outputs": [
    {
     "data": {
      "text/plain": [
       "Accident_Severity\n",
       "Fatal        15477\n",
       "Serious     148057\n",
       "Slight     1046338\n",
       "Name: Number_of_Vehicles, dtype: int64"
      ]
     },
     "execution_count": 17,
     "metadata": {},
     "output_type": "execute_result"
    }
   ],
   "source": [
    "avg_by_severity"
   ]
  },
  {
   "cell_type": "markdown",
   "id": "d803b84c-4cd1-4c70-aacd-19fdd62708e5",
   "metadata": {},
   "source": [
    "<p>Insights NO. 12: The data shows the number of vehicles involved in Slight is \"1046338\", in Serious is \"148057\" and in Fatal is \"15477\"\n",
    "</p><hr>"
   ]
  },
  {
   "cell_type": "markdown",
   "id": "63bbafef-92ec-4bb8-be11-467852b6e9c9",
   "metadata": {},
   "source": [
    "<h1>13. What is the average Number_of_Casualties per accident by Urban_or_Rural_Area?</h1>"
   ]
  },
  {
   "cell_type": "code",
   "execution_count": 18,
   "id": "3588bd25-c615-4b7f-a0f4-9dafef1abddf",
   "metadata": {},
   "outputs": [
    {
     "data": {
      "text/plain": [
       "Urban_or_Rural_Area\n",
       "Rural          1.479204\n",
       "Unallocated    1.181818\n",
       "Urban          1.287815\n",
       "Name: Number_of_Casualties, dtype: float64"
      ]
     },
     "execution_count": 18,
     "metadata": {},
     "output_type": "execute_result"
    }
   ],
   "source": [
    "accidents.groupby(\"Urban_or_Rural_Area\")[\"Number_of_Casualties\"].mean()"
   ]
  },
  {
   "cell_type": "markdown",
   "id": "554b6ce6-b0f6-4966-a082-c5df02d3b6c2",
   "metadata": {},
   "source": [
    "<p>Insights NO. 13: The data shows that the average Number_of_Casualties in Urban is \"1.287815\", in Rural \"1.479204\", and in Unallocated \"1.181818\"\n",
    "</p>\n",
    "<hr>"
   ]
  },
  {
   "cell_type": "markdown",
   "id": "559dbaaa-2f00-4c7d-9746-050746095af9",
   "metadata": {},
   "source": [
    "<h1>14. What Vehicle_Type is the most prone to accidents base on the data</h1>"
   ]
  },
  {
   "cell_type": "code",
   "execution_count": 19,
   "id": "03268d51-24b8-4704-8467-152287f3f752",
   "metadata": {},
   "outputs": [
    {
     "data": {
      "text/plain": [
       "Vehicle_Type\n",
       "Car                                      497992\n",
       "Van / Goods 3.5 tonnes mgw or under       34160\n",
       "Bus or coach (17 or more pass seats)      25878\n",
       "Motorcycle over 500cc                     25657\n",
       "Goods 7.5 tonnes mgw and over             17307\n",
       "Motorcycle 125cc and under                15269\n",
       "Taxi/Private hire car                     13294\n",
       "Motorcycle over 125cc and up to 500cc      7656\n",
       "Motorcycle 50cc and under                  7603\n",
       "Goods over 3.5t. and under 7.5t            6096\n",
       "Other vehicle                              5637\n",
       "Minibus (8 - 16 passenger seats)           1976\n",
       "Agricultural vehicle                       1947\n",
       "Pedal cycle                                 197\n",
       "Data missing or out of range                  6\n",
       "Ridden horse                                  4\n",
       "Name: count, dtype: int64"
      ]
     },
     "execution_count": 19,
     "metadata": {},
     "output_type": "execute_result"
    }
   ],
   "source": [
    "accidents['Vehicle_Type'].value_counts()"
   ]
  },
  {
   "cell_type": "markdown",
   "id": "095e56d3-3063-4471-96be-4cddc342c5da",
   "metadata": {},
   "source": [
    "<p>Insights NO. 14: The data shows that the Vehicle_Type with the most prone to accidents is \"Car\"</p>"
   ]
  },
  {
   "cell_type": "markdown",
   "id": "4da5853a-b105-41d5-8cea-5179799150c7",
   "metadata": {},
   "source": [
    "<h1>15. What is the highest Number_of_Vehicles involved in an accidents?</h1>"
   ]
  },
  {
   "cell_type": "code",
   "execution_count": 20,
   "id": "b843b46e-b178-4b7e-b0ed-46742acd6e1d",
   "metadata": {},
   "outputs": [
    {
     "data": {
      "text/plain": [
       "np.int64(32)"
      ]
     },
     "execution_count": 20,
     "metadata": {},
     "output_type": "execute_result"
    }
   ],
   "source": [
    "accidents['Number_of_Vehicles'].max()"
   ]
  },
  {
   "cell_type": "markdown",
   "id": "6475cec5-ce37-473d-bd6a-b944a325f908",
   "metadata": {},
   "source": [
    "<p>Insights NO. 14: The highest Number_of_Vehicles involved in an accidents s \"32\"</p>\n",
    "<hr>"
   ]
  },
  {
   "cell_type": "markdown",
   "id": "daabd668-9b52-4b9a-831a-e1de07b3dd59",
   "metadata": {},
   "source": [
    "<h1>16. Is there a correlation between latitude and longitude</h1>"
   ]
  },
  {
   "cell_type": "code",
   "execution_count": 21,
   "id": "1edfa3ac-0419-410d-8dce-cc18276f1361",
   "metadata": {},
   "outputs": [
    {
     "data": {
      "text/plain": [
       "np.float64(-0.3981136594753895)"
      ]
     },
     "execution_count": 21,
     "metadata": {},
     "output_type": "execute_result"
    }
   ],
   "source": [
    "accidents.dropna(subset=[\"Latitude\",\"Longitude\"])[\"Latitude\"].corr(accidents[\"Longitude\"])\n"
   ]
  },
  {
   "cell_type": "markdown",
   "id": "c39107a6-3cea-4617-934e-fee9649b83c0",
   "metadata": {},
   "source": [
    "<p>Insights NO. 16: As the data shows the correlation between lattitude and longitude is -0.3981136594753895, meaning there was no correlation between them.</p>\n",
    "<hr>"
   ]
  },
  {
   "cell_type": "markdown",
   "id": "a071e08d-faf1-463f-bf9e-d48e5a6ed4a6",
   "metadata": {},
   "source": [
    "<h1>17. How does the number of vehicles correlate with light conditions\n",
    "</h1>"
   ]
  },
  {
   "cell_type": "code",
   "execution_count": 22,
   "id": "0cad5639-017c-4036-ba97-d65bf512bf4e",
   "metadata": {},
   "outputs": [
    {
     "name": "stdout",
     "output_type": "stream",
     "text": [
      "Light_Conditions\n",
      "Darkness - lighting unknown    1.758482\n",
      "Darkness - lights lit          1.775498\n",
      "Darkness - lights unlit        1.752654\n",
      "Darkness - no lighting         1.599781\n",
      "Daylight                       1.865385\n",
      "Name: Number_of_Vehicles, dtype: float64\n"
     ]
    }
   ],
   "source": [
    "vehicles_light = accidents.groupby(\"Light_Conditions\")[\"Number_of_Vehicles\"].mean()\n",
    "print(vehicles_light)"
   ]
  },
  {
   "cell_type": "markdown",
   "id": "25513d90-5513-480d-96c2-c282a33ad846",
   "metadata": {},
   "source": [
    "<p>Insights NO. 17:</p>\n",
    "Daylight has the highest average (1.87)</p>\n",
    "Darkness - no lighting has the lowest (1.60)</p>\n",
    "Other lighting conditions are similar (~1.75)</p>\n",
    "It means that daylight is the most prone in accidents maybe because of traffic\n",
    "<hr>"
   ]
  },
  {
   "cell_type": "markdown",
   "id": "29158252-643d-4076-8c22-3536c6f318f7",
   "metadata": {},
   "source": [
    "<h1>18. Which Road_Type has the highest number of accidents in urban vs rural areas?</h1>"
   ]
  },
  {
   "cell_type": "code",
   "execution_count": 23,
   "id": "36c0c68c-6906-41ad-aa73-33f57981b6ce",
   "metadata": {},
   "outputs": [
    {
     "data": {
      "text/plain": [
       "Urban_or_Rural_Area  Road_Type         \n",
       "Urban                Single carriageway    324117\n",
       "dtype: int64"
      ]
     },
     "execution_count": 23,
     "metadata": {},
     "output_type": "execute_result"
    }
   ],
   "source": [
    "accidents.groupby([\"Urban_or_Rural_Area\", \"Road_Type\"]).size().sort_values(ascending=False).head(1)\n"
   ]
  },
  {
   "cell_type": "markdown",
   "id": "70105154-fbb3-4f4f-a080-903b5f8324cd",
   "metadata": {},
   "source": [
    "<p>Insights NO. 17: Tha data shows that the Road_Type that has the highest number of accidents in urban vs rural areas is \"Single carriageway\"</p>\n",
    "<hr>"
   ]
  },
  {
   "cell_type": "markdown",
   "id": "a243d380-1cb8-424a-ac45-e66f871f92d3",
   "metadata": {},
   "source": [
    "<h1>19. What is the highest Number_of_Vehicles involved in an accidents?</h1>"
   ]
  },
  {
   "cell_type": "code",
   "execution_count": 24,
   "id": "222ba276-5ec5-4bb9-99fe-2a473b5a6b94",
   "metadata": {},
   "outputs": [
    {
     "data": {
      "text/plain": [
       "District Area\n",
       "Birmingham    13491\n",
       "Name: count, dtype: int64"
      ]
     },
     "execution_count": 24,
     "metadata": {},
     "output_type": "execute_result"
    }
   ],
   "source": [
    "accidents[\"District Area\"].value_counts().head(1)"
   ]
  },
  {
   "cell_type": "markdown",
   "id": "ef5070a8-873f-44d3-9615-45f285b5c3cc",
   "metadata": {},
   "source": [
    "<p>Insights NO. 19: The highest Number_of_Vehicles involved in an accidents is \"Birmingham\" with \"13491\" accidents</p>\n",
    "<hr>"
   ]
  },
  {
   "cell_type": "markdown",
   "id": "ce577bfe-0330-4b69-9987-eb322739d6ed",
   "metadata": {},
   "source": [
    "<h1>20. Is there a same Latitude in the table?</h1>"
   ]
  },
  {
   "cell_type": "code",
   "execution_count": 25,
   "id": "7cace070-bdde-4dee-b629-051b1e0b530d",
   "metadata": {},
   "outputs": [],
   "source": [
    "duplicate_lat = accidents[\"Latitude\"].duplicated().sum()"
   ]
  },
  {
   "cell_type": "code",
   "execution_count": 26,
   "id": "64274c0d-3d3b-45d1-a8a8-cad9eeef182d",
   "metadata": {},
   "outputs": [
    {
     "data": {
      "text/plain": [
       "np.int64(149060)"
      ]
     },
     "execution_count": 26,
     "metadata": {},
     "output_type": "execute_result"
    }
   ],
   "source": [
    "duplicate_lat"
   ]
  },
  {
   "cell_type": "markdown",
   "id": "807464bb-58aa-4202-bea4-b3235e6dd7e4",
   "metadata": {},
   "source": [
    "<p>Insights NO. 20: Yes! There is a total of \"149060\" that has the same Latitude in the table</p>\n",
    "<hr>"
   ]
  },
  {
   "cell_type": "markdown",
   "id": "4577cb65-61fb-42e0-b004-d6c3958d8fe9",
   "metadata": {},
   "source": [
    "<h1>Extracting Date Information Using Pandas Date Time</h1>\n",
    "<hr>"
   ]
  },
  {
   "cell_type": "code",
   "execution_count": 27,
   "id": "20632e4e-65cf-4e29-88a0-d7934d7ab769",
   "metadata": {},
   "outputs": [],
   "source": [
    "accidents['Accident Date'] = accidents['Accident Date'] = pd.to_datetime(accidents['Accident Date'], dayfirst = True, errors ='coerce')"
   ]
  },
  {
   "cell_type": "code",
   "execution_count": 28,
   "id": "702d4200-b67b-4e89-bbe3-9c36b7505b1c",
   "metadata": {},
   "outputs": [],
   "source": [
    "accidents['Year']= accidents['Accident Date'].dt.year\n",
    "accidents['Month']= accidents['Accident Date'].dt.month\n",
    "accidents['Day']= accidents['Accident Date'].dt.day\n",
    "accidents['DayOfWeek']= accidents['Accident Date'].dt.dayofweek #Monday = 0, #Sunday = 6"
   ]
  },
  {
   "cell_type": "code",
   "execution_count": 29,
   "id": "eaab26eb-cf36-4d2a-a24d-ffe73e735caa",
   "metadata": {},
   "outputs": [
    {
     "data": {
      "text/plain": [
       "Index                              object\n",
       "Accident_Severity                  object\n",
       "Accident Date              datetime64[ns]\n",
       "Latitude                          float64\n",
       "Light_Conditions                   object\n",
       "District Area                      object\n",
       "Longitude                         float64\n",
       "Number_of_Casualties                int64\n",
       "Number_of_Vehicles                  int64\n",
       "Road_Surface_Conditions            object\n",
       "Road_Type                          object\n",
       "Urban_or_Rural_Area                object\n",
       "Weather_Conditions                 object\n",
       "Vehicle_Type                       object\n",
       "Year                                int32\n",
       "Month                               int32\n",
       "Day                                 int32\n",
       "DayOfWeek                           int32\n",
       "dtype: object"
      ]
     },
     "execution_count": 29,
     "metadata": {},
     "output_type": "execute_result"
    }
   ],
   "source": [
    "accidents.dtypes"
   ]
  },
  {
   "cell_type": "markdown",
   "id": "14ea7f38-a537-4683-b262-875ca7d0d5a0",
   "metadata": {},
   "source": [
    "<h1>Changing to Null Value</h1>"
   ]
  },
  {
   "cell_type": "code",
   "execution_count": 30,
   "id": "debbab90-b9eb-436b-a205-4becbcfca579",
   "metadata": {},
   "outputs": [],
   "source": [
    "accidents['Index'] = accidents['Index'].fillna(accidents['Index'].mode()[0])\n",
    "accidents['Accident_Severity'] = accidents['Accident_Severity'].fillna(accidents['Accident_Severity'].mode()[0])\n",
    "accidents['Accident Date'] = accidents['Accident Date'].fillna(accidents['Accident Date'].mode()[0])\n",
    "accidents['Latitude'] = accidents['Latitude'].fillna(accidents['Latitude'].mode()[0])\n",
    "accidents['Light_Conditions'] = accidents['Light_Conditions'].fillna(accidents['Light_Conditions'].mode()[0])\n",
    "accidents['District Area'] = accidents['District Area'].fillna(accidents['District Area'].mode()[0])\n",
    "accidents['Longitude'] = accidents['Longitude'].fillna(accidents['Longitude'].mode()[0])\n",
    "accidents['Number_of_Casualties'] = accidents['Number_of_Casualties'].fillna(accidents['Number_of_Casualties'].mode()[0])\n",
    "accidents['Number_of_Vehicles'] = accidents['Number_of_Vehicles'].fillna(accidents['Number_of_Vehicles'].mode()[0])\n",
    "accidents['Road_Surface_Conditions'] = accidents['Road_Surface_Conditions'].fillna(accidents['Road_Surface_Conditions'].mode()[0])\n",
    "accidents['Road_Type'] = accidents['Road_Type'].fillna(accidents['Road_Type'].mode()[0])\n",
    "accidents['Urban_or_Rural_Area'] = accidents['Urban_or_Rural_Area'].fillna(accidents['Urban_or_Rural_Area'].mode()[0])\n",
    "accidents['Weather_Conditions'] = accidents['Weather_Conditions'].fillna(accidents['Weather_Conditions'].mode()[0])\n",
    "accidents['Vehicle_Type'] = accidents['Vehicle_Type'].fillna(accidents['Vehicle_Type'].mode()[0])\n",
    "accidents['Year'] = accidents['Year'].fillna(accidents['Year'].mode()[0])\n",
    "accidents['Month'] = accidents['Month'].fillna(accidents['Month'].mode()[0])\n",
    "accidents['Day'] = accidents['Day'].fillna(accidents['Day'].mode()[0])\n",
    "accidents['DayOfWeek'] = accidents['DayOfWeek'].fillna(accidents['DayOfWeek'].mode()[0])"
   ]
  },
  {
   "cell_type": "code",
   "execution_count": 31,
   "id": "6c051ec5-d075-434f-9914-a377ed87f878",
   "metadata": {},
   "outputs": [
    {
     "data": {
      "text/plain": [
       "Index                      0\n",
       "Accident_Severity          0\n",
       "Accident Date              0\n",
       "Latitude                   0\n",
       "Light_Conditions           0\n",
       "District Area              0\n",
       "Longitude                  0\n",
       "Number_of_Casualties       0\n",
       "Number_of_Vehicles         0\n",
       "Road_Surface_Conditions    0\n",
       "Road_Type                  0\n",
       "Urban_or_Rural_Area        0\n",
       "Weather_Conditions         0\n",
       "Vehicle_Type               0\n",
       "Year                       0\n",
       "Month                      0\n",
       "Day                        0\n",
       "DayOfWeek                  0\n",
       "dtype: int64"
      ]
     },
     "execution_count": 31,
     "metadata": {},
     "output_type": "execute_result"
    }
   ],
   "source": [
    "accidents.isnull().sum()"
   ]
  },
  {
   "cell_type": "markdown",
   "id": "4444e00f-371f-4ae3-a4b1-db7c31128b2a",
   "metadata": {},
   "source": [
    "<h1>21-23.Which year recorded the highest number of accidents?</h1>\n",
    "<h1>Which year recorded the lowest number of accidents?</h1>\n",
    "<h1>How many accidents happened in each year?</h1>"
   ]
  },
  {
   "cell_type": "code",
   "execution_count": 32,
   "id": "17bc3882-64ec-413b-86a6-652ed61aea53",
   "metadata": {},
   "outputs": [
    {
     "data": {
      "text/plain": [
       "Accident Date\n",
       "2019    182115\n",
       "2020    170591\n",
       "2021    163554\n",
       "2022    144419\n",
       "dtype: int64"
      ]
     },
     "execution_count": 32,
     "metadata": {},
     "output_type": "execute_result"
    }
   ],
   "source": [
    "accidents_per_year = accidents.groupby(accidents[\"Accident Date\"].dt.year).size()\n",
    "accidents_per_year"
   ]
  },
  {
   "cell_type": "markdown",
   "id": "8936abd1-b977-495a-85bf-54106176e829",
   "metadata": {},
   "source": [
    "<p>Insights NO. 21: The highest number af accidents by year is \"2019\"</p>\n",
    "Insights NO. 22: The lowest number af accidents by year is \"2022\"</p>\n",
    "Insights NO. 23: The number af accidents happened by year are:</p>\n",
    "in 2019    182115,</p>\n",
    "in 2020    170591,</p>\n",
    "in 2021    163554, </p>\n",
    "and 2022    144419</p>\n",
    "<hr>"
   ]
  },
  {
   "cell_type": "markdown",
   "id": "4d1105a6-c2ba-4811-bcfe-e12f6fe23010",
   "metadata": {},
   "source": [
    "<h1>24. Are there more accidents on weekends than weekdays?</h1>"
   ]
  },
  {
   "cell_type": "code",
   "execution_count": 33,
   "id": "740fdfd1-2adc-4709-aa14-7d4bad8945e2",
   "metadata": {},
   "outputs": [
    {
     "name": "stdout",
     "output_type": "stream",
     "text": [
      "Weekdays\n"
     ]
    }
   ],
   "source": [
    "weekend = accidents[accidents[\"Accident Date\"].dt.day_name().isin([\"Saturday\",\"Sunday\"])].shape[0]\n",
    "weekday = accidents[~accidents[\"Accident Date\"].dt.day_name().isin([\"Saturday\",\"Sunday\"])].shape[0]\n",
    "print(\"Weekends\" if weekend > weekday else \"Weekdays\")\n"
   ]
  },
  {
   "cell_type": "markdown",
   "id": "6ed32ef2-00c8-4fdd-b286-a9db344f1085",
   "metadata": {},
   "source": [
    "<p>Insights NO. 24: It shows that there more accidents in weekdays than in weekends</p>\n",
    "<hr>"
   ]
  },
  {
   "cell_type": "markdown",
   "id": "7502b9e1-c943-4ab8-89c8-5983ec67b2aa",
   "metadata": {},
   "source": [
    "<h1>25. Does the number of vehicles involved in accidents change over the years?</h1>"
   ]
  },
  {
   "cell_type": "code",
   "execution_count": 34,
   "id": "482c2a68-535c-4f40-aacd-6fde7c86a8b9",
   "metadata": {},
   "outputs": [
    {
     "data": {
      "text/plain": [
       "Accident Date\n",
       "2019    1.839310\n",
       "2020    1.826615\n",
       "2021    1.826229\n",
       "2022    1.832273\n",
       "Name: Number_of_Vehicles, dtype: float64"
      ]
     },
     "execution_count": 34,
     "metadata": {},
     "output_type": "execute_result"
    }
   ],
   "source": [
    "accidents.groupby(accidents[\"Accident Date\"].dt.year)[\"Number_of_Vehicles\"].mean()"
   ]
  },
  {
   "cell_type": "markdown",
   "id": "561fcc7f-9893-4a00-81f9-3caf71d45f91",
   "metadata": {},
   "source": [
    "<p>Insights NO. 25: Yes, but not much, because the numbers slightly fluctuate but remain almost constant.</p>\n",
    "<hr>"
   ]
  },
  {
   "cell_type": "markdown",
   "id": "a086c62b-8f3f-49f0-a266-b37d1e8be455",
   "metadata": {},
   "source": [
    "<h1>DATA VISUALIZATION</h1>\n",
    "<HR></HR>"
   ]
  },
  {
   "cell_type": "code",
   "execution_count": 35,
   "id": "115f8886-6bed-40c2-84ec-c20cfb2a7436",
   "metadata": {},
   "outputs": [
    {
     "data": {
      "image/png": "[encoded data removed]",
      "text/plain": [
       "<Figure size 640x480 with 1 Axes>"
      ]
     },
     "metadata": {},
     "output_type": "display_data"
    }
   ],
   "source": [
    "accidents.groupby('Year')['Index'].count().plot(kind='bar')\n",
    "plt.show()"
   ]
  },
  {
   "cell_type": "markdown",
   "id": "f31f29e8-5691-4e13-a9d5-d49df08cb3d5",
   "metadata": {},
   "source": [
    "<h1>21. How does the number of accidents vary by severity across different years?</h1>"
   ]
  },
  {
   "cell_type": "code",
   "execution_count": 38,
   "id": "3d88967a-ee79-4f30-976c-fc25bd5f57ac",
   "metadata": {},
   "outputs": [
    {
     "data": {
      "image/png": "[encoded data removed]",
      "text/plain": [
       "<Figure size 800x500 with 1 Axes>"
      ]
     },
     "metadata": {},
     "output_type": "display_data"
    }
   ],
   "source": [
    "severity = accidents.groupby(['Accident_Severity', 'Year'])['Index'].count()\n",
    "severity.unstack()\n",
    "severity.plot(kind='bar', figsize=(8,5))\n",
    "plt.title(\"Number of Accidents by Severity and Year\")\n",
    "plt.xlabel(\"Accident Severity\")\n",
    "plt.ylabel(\"Number of Accidents\")\n",
    "plt.legend(title=\"Year\")\n",
    "plt.tight_layout()\n",
    "plt.show()"
   ]
  },
  {
   "cell_type": "markdown",
   "id": "1611fec6-e99b-4fdd-a75d-ffc49feac514",
   "metadata": {},
   "source": [
    "<p>Insight No. 26. The data shows that Slight accidents happen most often each year, while fatal ones are the least frequent.</p>\n",
    "<hr>"
   ]
  },
  {
   "cell_type": "markdown",
   "id": "5c28ddcc-0e8a-43cd-8a48-7d75183f75c2",
   "metadata": {},
   "source": [
    "<h1>Number 18 with Visualization.  Which Road_Type has the highest number of accidents in urban vs rural areas?</h1>"
   ]
  },
  {
   "cell_type": "code",
   "execution_count": 41,
   "id": "b6885572-d759-483c-a8fd-c7a6d756753e",
   "metadata": {},
   "outputs": [
    {
     "data": {
      "image/png": "[encoded data removed]",
      "text/plain": [
       "<Figure size 1000x500 with 1 Axes>"
      ]
     },
     "metadata": {},
     "output_type": "display_data"
    }
   ],
   "source": [
    "area_road_counts = accidents.groupby([\"Urban_or_Rural_Area\", \"Road_Type\"]).size()\n",
    "area_road_counts = area_road_counts.reset_index(name='Accident_Count')\n",
    "area_road_counts.sort_values(\"Accident_Count\", ascending=False).head(10).plot(\n",
    "    x=\"Road_Type\", \n",
    "    y=\"Accident_Count\", \n",
    "    kind=\"bar\",\n",
    "    figsize=(10,5),\n",
    "    title=\"Top Road Types by Accidents in Urban vs Rural Areas\"\n",
    ")\n",
    "\n",
    "plt.xlabel(\"Road Type (Urban/Rural)\")\n",
    "plt.ylabel(\"Number of Accidents\")\n",
    "plt.tight_layout()\n",
    "plt.show()\n"
   ]
  },
  {
   "cell_type": "markdown",
   "id": "635d8d64-998a-4a03-8a83-014d77cc85ee",
   "metadata": {},
   "source": [
    "<p>Insight No. 18 with Visualization. Tha data shows that the Road_Type that has the highest number of accidents in urban vs rural areas is \"Single carriageway\"</p>"
   ]
  }
 ],
 "metadata": {
  "kernelspec": {
   "display_name": "Python 3 (ipykernel)",
   "language": "python",
   "name": "python3"
  },
  "language_info": {
   "codemirror_mode": {
    "name": "ipython",
    "version": 3
   },
   "file_extension": ".py",
   "mimetype": "text/x-python",
   "name": "python",
   "nbconvert_exporter": "python",
   "pygments_lexer": "ipython3",
   "version": "3.13.1"
  }
 },
 "nbformat": 4,
 "nbformat_minor": 5
}
